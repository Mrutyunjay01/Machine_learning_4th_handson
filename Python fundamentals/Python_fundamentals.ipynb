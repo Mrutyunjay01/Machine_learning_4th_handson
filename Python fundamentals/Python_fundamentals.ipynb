{
 "cells": [
  {
   "cell_type": "markdown",
   "metadata": {},
   "source": [
    "# Variables\n"
   ]
  },
  {
   "cell_type": "code",
   "execution_count": 3,
   "metadata": {},
   "outputs": [],
   "source": [
    "a = 2"
   ]
  },
  {
   "cell_type": "code",
   "execution_count": 6,
   "metadata": {},
   "outputs": [],
   "source": [
    "# Change the value of a\n",
    "a = 3"
   ]
  },
  {
   "cell_type": "code",
   "execution_count": 7,
   "metadata": {},
   "outputs": [
    {
     "name": "stdout",
     "output_type": "stream",
     "text": [
      "3\n"
     ]
    }
   ],
   "source": [
    "print(a)"
   ]
  },
  {
   "cell_type": "code",
   "execution_count": 8,
   "metadata": {},
   "outputs": [
    {
     "name": "stdout",
     "output_type": "stream",
     "text": [
      "Hello\n",
      "Let's learn Python!!!\n"
     ]
    }
   ],
   "source": [
    "print(\"Hello\\nLet's learn Python!!!\")"
   ]
  },
  {
   "cell_type": "code",
   "execution_count": 9,
   "metadata": {},
   "outputs": [
    {
     "name": "stdout",
     "output_type": "stream",
     "text": [
      "['False', 'None', 'True', 'and', 'as', 'assert', 'async', 'await', 'break', 'class', 'continue', 'def', 'del', 'elif', 'else', 'except', 'finally', 'for', 'from', 'global', 'if', 'import', 'in', 'is', 'lambda', 'nonlocal', 'not', 'or', 'pass', 'raise', 'return', 'try', 'while', 'with', 'yield']\n",
      "Total Number of keywords! 35\n"
     ]
    }
   ],
   "source": [
    "import keyword\n",
    "print(keyword.kwlist)\n",
    "print(\"Total Number of keywords!\", len(keyword.kwlist))"
   ]
  },
  {
   "cell_type": "code",
   "execution_count": 11,
   "metadata": {},
   "outputs": [
    {
     "name": "stdout",
     "output_type": "stream",
     "text": [
      "140716744417744\n"
     ]
    }
   ],
   "source": [
    "print(id(a)) # print the adress of the variable 'a'"
   ]
  },
  {
   "cell_type": "markdown",
   "metadata": {},
   "source": [
    "# Numeric Operations\n"
   ]
  },
  {
   "cell_type": "code",
   "execution_count": 13,
   "metadata": {},
   "outputs": [
    {
     "name": "stdout",
     "output_type": "stream",
     "text": [
      "-85\n",
      "-115\n",
      "-1500\n",
      "-7\n",
      "5\n",
      "-1000000000000000000000000000000\n"
     ]
    }
   ],
   "source": [
    "a = -100\n",
    "b = 15\n",
    "print(a + b)\n",
    "print(a - b)\n",
    "print(a * b)\n",
    "print(a // b) # floor divison\n",
    "print(a % b)\n",
    "print(a ** b)"
   ]
  },
  {
   "cell_type": "code",
   "execution_count": 14,
   "metadata": {},
   "outputs": [
    {
     "data": {
      "text/plain": [
       "2.302585092994046"
      ]
     },
     "execution_count": 14,
     "metadata": {},
     "output_type": "execute_result"
    }
   ],
   "source": [
    "import math\n",
    "x = 10\n",
    "math.log(x)"
   ]
  },
  {
   "cell_type": "markdown",
   "metadata": {},
   "source": [
    "# Logical Expression"
   ]
  },
  {
   "cell_type": "code",
   "execution_count": 18,
   "metadata": {},
   "outputs": [
    {
     "name": "stdout",
     "output_type": "stream",
     "text": [
      "True\n",
      "False\n",
      "True\n",
      "True\n",
      "True\n",
      "<class 'bool'>\n"
     ]
    }
   ],
   "source": [
    "print(3 < 4)\n",
    "print(True and False)\n",
    "print(True or False)\n",
    "print(True and not False)\n",
    "a = True\n",
    "print(not not a)\n",
    "print(type(a))"
   ]
  },
  {
   "cell_type": "markdown",
   "metadata": {},
   "source": [
    "# If-else loop"
   ]
  },
  {
   "cell_type": "code",
   "execution_count": 21,
   "metadata": {},
   "outputs": [
    {
     "name": "stdout",
     "output_type": "stream",
     "text": [
      "a is smalles than 50 by 45 units\n"
     ]
    }
   ],
   "source": [
    "a = 5\n",
    "if a>50:\n",
    "    print(\"a is larger than 50\")\n",
    "else:\n",
    "    difference = 50 - a\n",
    "    print(\"a is smalles than 50 by \" + str(difference) + ' units')"
   ]
  },
  {
   "cell_type": "code",
   "execution_count": 23,
   "metadata": {},
   "outputs": [
    {
     "name": "stdout",
     "output_type": "stream",
     "text": [
      "smallest element among these number is : 2\n"
     ]
    }
   ],
   "source": [
    "# Find the smallest out of three numbers\n",
    "n1 = 2\n",
    "n2 = 60\n",
    "n3 = 78\n",
    "\n",
    "if (n1 <= n2) and (n1 <= n3):\n",
    "    smallest = n1\n",
    "elif (n2 <= n1) and (n2 <= n3):\n",
    "    smallest = n2\n",
    "else:\n",
    "    smallest = n3\n",
    "print(\"smallest element among these number is : {}\".format(smallest))"
   ]
  },
  {
   "cell_type": "markdown",
   "metadata": {},
   "source": [
    "# For loop"
   ]
  },
  {
   "cell_type": "code",
   "execution_count": 26,
   "metadata": {},
   "outputs": [
    {
     "name": "stdout",
     "output_type": "stream",
     "text": [
      "5\n",
      "7\n",
      "5\n",
      "7\n"
     ]
    }
   ],
   "source": [
    "subjects = ['maths', 'science', 'hindi', 'history']\n",
    "for i in range(len(subjects)):\n",
    "    print(len(subjects[i]))"
   ]
  },
  {
   "cell_type": "code",
   "execution_count": 27,
   "metadata": {},
   "outputs": [
    {
     "name": "stdout",
     "output_type": "stream",
     "text": [
      "1\n",
      "4\n",
      "7\n"
     ]
    }
   ],
   "source": [
    "for i in range(1, 10, 3): #(start, stop, skip)\n",
    "    print(i)"
   ]
  },
  {
   "cell_type": "code",
   "execution_count": 55,
   "metadata": {},
   "outputs": [
    {
     "name": "stdout",
     "output_type": "stream",
     "text": [
      "*\n",
      "**\n",
      "***\n",
      "****\n",
      "*****\n",
      "***\n",
      "*\n",
      "\n",
      "\n"
     ]
    }
   ],
   "source": [
    "str1 = ''\n",
    "for i in range(0, 9):\n",
    "    if i<5:\n",
    "        str1 += '*'\n",
    "        print(str1)\n",
    "    elif i>4:\n",
    "        str1 = str1[:-2]\n",
    "        print(str1)"
   ]
  },
  {
   "cell_type": "code",
   "execution_count": 35,
   "metadata": {},
   "outputs": [
    {
     "name": "stdout",
     "output_type": "stream",
     "text": [
      "0 H\n",
      "1 e\n",
      "2 l\n",
      "3 l\n",
      "4 o\n",
      "5  \n",
      "6 f\n",
      "7 r\n",
      "8 o\n",
      "9 m\n",
      "10  \n",
      "11 N\n",
      "12 I\n",
      "13 T\n",
      "14 R\n"
     ]
    }
   ],
   "source": [
    "my_srinf = 'Hello from NITR'\n",
    "for n, alphabet in enumerate(my_srinf):\n",
    "    print(n, alphabet)"
   ]
  },
  {
   "cell_type": "markdown",
   "metadata": {},
   "source": [
    "# While loop"
   ]
  },
  {
   "cell_type": "code",
   "execution_count": 57,
   "metadata": {},
   "outputs": [
    {
     "name": "stdout",
     "output_type": "stream",
     "text": [
      "68\n",
      "68 is divisible by 2\n",
      "68 is divisible by 4\n",
      "68 is divisible by 17\n",
      "68 is divisible by 34\n",
      "68 is Not a prime Number\n"
     ]
    }
   ],
   "source": [
    "num = int(input())\n",
    "\n",
    "isDivisible = False\n",
    "i = 2\n",
    "while i < num:\n",
    "    if num % i == 0:\n",
    "        isDivisible = True\n",
    "        print(\"{} is divisible by {}\".format(num, i))\n",
    "    i += 1\n",
    "if isDivisible:\n",
    "    print(\"{} is Not a prime Number\".format(num))\n",
    "else:\n",
    "    print(\"{} is a prime Number\".format(num))"
   ]
  },
  {
   "cell_type": "markdown",
   "metadata": {},
   "source": [
    "# Functions"
   ]
  },
  {
   "cell_type": "code",
   "execution_count": 62,
   "metadata": {},
   "outputs": [
    {
     "name": "stdout",
     "output_type": "stream",
     "text": [
      "None\n"
     ]
    }
   ],
   "source": [
    "def Trile(num):\n",
    "    return num**3\n",
    "Trile(67)\n",
    "print(Trile.__doc__)"
   ]
  },
  {
   "cell_type": "code",
   "execution_count": 65,
   "metadata": {},
   "outputs": [
    {
     "name": "stdout",
     "output_type": "stream",
     "text": [
      "120\n"
     ]
    }
   ],
   "source": [
    "def factorial(Num):\n",
    "    if Num> 1:\n",
    "        return Num * factorial(Num -1)\n",
    "    else:\n",
    "        return 1\n",
    "fac = factorial(5)\n",
    "print(fac)"
   ]
  },
  {
   "cell_type": "code",
   "execution_count": 67,
   "metadata": {},
   "outputs": [
    {
     "name": "stdout",
     "output_type": "stream",
     "text": [
      "(1, 2, 2, 4)\n",
      "9\n"
     ]
    }
   ],
   "source": [
    "def submissioin(*args):\n",
    "    print(args)\n",
    "    return(sum(args))\n",
    "print(submissioin(1,2,2,4))"
   ]
  },
  {
   "cell_type": "code",
   "execution_count": 68,
   "metadata": {},
   "outputs": [
    {
     "name": "stdout",
     "output_type": "stream",
     "text": [
      "['Virat', 'Kohli']\n",
      "<class 'function'>\n"
     ]
    }
   ],
   "source": [
    "captain = 'Virat Kohli'\n",
    "string_to_list = lambda x: x.split()\n",
    "print(string_to_list(captain))\n",
    "print(type(string_to_list))"
   ]
  },
  {
   "cell_type": "code",
   "execution_count": 70,
   "metadata": {},
   "outputs": [
    {
     "name": "stdout",
     "output_type": "stream",
     "text": [
      "24\n"
     ]
    }
   ],
   "source": [
    "multiply = lambda x, y: x * y\n",
    "print(multiply(4, 6))"
   ]
  },
  {
   "cell_type": "markdown",
   "metadata": {},
   "source": [
    "# Stirngs"
   ]
  },
  {
   "cell_type": "code",
   "execution_count": 4,
   "metadata": {},
   "outputs": [
    {
     "data": {
      "text/plain": [
       "('mrityunjay', 'pritipanna')"
      ]
     },
     "execution_count": 4,
     "metadata": {},
     "output_type": "execute_result"
    }
   ],
   "source": [
    "x = \"mrityunjay\"\n",
    "y = \"pritipanna\"\n",
    "x, y"
   ]
  },
  {
   "cell_type": "code",
   "execution_count": 12,
   "metadata": {},
   "outputs": [
    {
     "name": "stdout",
     "output_type": "stream",
     "text": [
      "I am a data scientist\n",
      " am a data scientist!\n",
      " am a data scientist\n"
     ]
    }
   ],
   "source": [
    "small = \"I am a data scientist!\"\n",
    "print(small.rstrip(\"!\")) # removes from RHS\n",
    "print(small.lstrip(\"I\")) # removes from LHS\n",
    "print(small.lstrip(\"I\").rstrip(\"!\"))"
   ]
  },
  {
   "cell_type": "code",
   "execution_count": 99,
   "metadata": {},
   "outputs": [
    {
     "name": "stdout",
     "output_type": "stream",
     "text": [
      "Hi I am Mrutyunjay\n",
      "Mrutyunjay am I Hi\n"
     ]
    }
   ],
   "source": [
    "# Reverse a string keeping words same\n",
    "input_string = input()\n",
    "list1 = input_string[::-1].split(\" \")\n",
    "#print(list1)\n",
    "list3 = []\n",
    "for i in range(len(list1)):\n",
    "    list3.append(list1[i][::-1])\n",
    "print(\" \".join(list3))"
   ]
  },
  {
   "cell_type": "markdown",
   "metadata": {},
   "source": [
    "# Lists"
   ]
  },
  {
   "cell_type": "code",
   "execution_count": 59,
   "metadata": {},
   "outputs": [
    {
     "name": "stdout",
     "output_type": "stream",
     "text": [
      "[]\n",
      "<class 'list'>\n",
      "['R', 'Python', 'Scala', 41, 'ML']\n",
      "ML\n"
     ]
    }
   ],
   "source": [
    "a = []\n",
    "print(a)\n",
    "print(type(a))\n",
    "languages = ['R', 'Python', 'Scala', 41]\n",
    "languages.append(\"ML\")\n",
    "print(languages)\n",
    "print(languages.pop())"
   ]
  },
  {
   "cell_type": "code",
   "execution_count": 60,
   "metadata": {},
   "outputs": [
    {
     "name": "stdout",
     "output_type": "stream",
     "text": [
      "1996110575816\n",
      "1996110575816\n",
      "1996121747272\n"
     ]
    }
   ],
   "source": [
    "new_list = languages # Shares the same memory locaiton\n",
    "copied_list = languages.copy() # allocates to diff memory location\n",
    "print(id(languages))\n",
    "print(id(new_list))\n",
    "print(id(copied_list))"
   ]
  },
  {
   "cell_type": "markdown",
   "metadata": {},
   "source": [
    "# Tuples"
   ]
  },
  {
   "cell_type": "code",
   "execution_count": 82,
   "metadata": {},
   "outputs": [
    {
     "name": "stdout",
     "output_type": "stream",
     "text": [
      "1996108418728\n",
      "1996108418728\n"
     ]
    }
   ],
   "source": [
    "# Tupples cann't be modified unlike list.\n",
    "Hobbies = (\"Coding\", \"ML\", 69)\n",
    "new = Hobbies\n",
    "print(id(new))\n",
    "print(id(Hobbies))"
   ]
  },
  {
   "cell_type": "markdown",
   "metadata": {},
   "source": [
    "# Sets\n",
    "> Stores identical values"
   ]
  },
  {
   "cell_type": "code",
   "execution_count": 106,
   "metadata": {},
   "outputs": [
    {
     "name": "stdout",
     "output_type": "stream",
     "text": [
      "['A', 'B', 'C', 'D']\n",
      "['A', 'B', 'C', 'D']\n"
     ]
    }
   ],
   "source": [
    "student_grades = ['A', 'B', 'B', 'C', 'D']\n",
    "student_grades = set(student_grades)\n",
    "print(sorted(student_grades))\n",
    "# .union(), .intersection(), .difference() works as usual between two sets\n",
    "student_grades1 = set(['A', 'B', 'B', 'C', 'D', 'F', 'G'])\n",
    "print(sorted(student_grades1.intersection(student_grades)))"
   ]
  },
  {
   "cell_type": "markdown",
   "metadata": {},
   "source": [
    "# Dictionaries"
   ]
  },
  {
   "cell_type": "code",
   "execution_count": 114,
   "metadata": {},
   "outputs": [
    {
     "name": "stdout",
     "output_type": "stream",
     "text": [
      "<class 'dict'>\n",
      "actor Amir\n",
      "Animal Cat\n",
      "Genius Mrutyunjay\n"
     ]
    }
   ],
   "source": [
    "empty_dict = {}\n",
    "print(type(empty_dict))\n",
    "empty_dict = {\"actor\":\"Amir\", \"Animal\":\"Cat\", \"Genius\":\"Mrutyunjay\"}\n",
    "for key, value in empty_dict.items():\n",
    "    print(key, value)"
   ]
  },
  {
   "cell_type": "markdown",
   "metadata": {},
   "source": [
    "# Comprehensions"
   ]
  },
  {
   "cell_type": "code",
   "execution_count": 115,
   "metadata": {},
   "outputs": [
    {
     "name": "stdout",
     "output_type": "stream",
     "text": [
      "[1, 4, 9, 16, 25, 36, 49, 64, 81]\n"
     ]
    }
   ],
   "source": [
    "squared_list = []\n",
    "for x in range(1, 10):\n",
    "    squared_list.append(x**2)\n",
    "print(squared_list)"
   ]
  },
  {
   "cell_type": "markdown",
   "metadata": {},
   "source": [
    "> For loops compute sequentially.\n",
    "> Comprehensions compute Parallaley."
   ]
  },
  {
   "cell_type": "code",
   "execution_count": 117,
   "metadata": {},
   "outputs": [
    {
     "name": "stdout",
     "output_type": "stream",
     "text": [
      "[1, 4, 9, 16, 25, 36, 49, 64, 81]\n"
     ]
    }
   ],
   "source": [
    "squared_list = [x**2 for x in range(1, 10)]\n",
    "print(squared_list)"
   ]
  },
  {
   "cell_type": "code",
   "execution_count": 119,
   "metadata": {},
   "outputs": [
    {
     "name": "stdout",
     "output_type": "stream",
     "text": [
      "['There', 'was', 'a', 'Mrutyunjay', 'There', 'was', 'a', 'Pritipanna', 'They', 'both', 'are', 'soulmates']\n"
     ]
    }
   ],
   "source": [
    "paragraph = ['There was a Mrutyunjay', 'There was a Pritipanna', 'They both are soulmates']\n",
    "single_words_list = [word for sentence in paragraph for word in sentence.split()]\n",
    "print(single_words_list)"
   ]
  },
  {
   "cell_type": "code",
   "execution_count": 121,
   "metadata": {},
   "outputs": [
    {
     "name": "stdout",
     "output_type": "stream",
     "text": [
      "['a', 'a', 'are']\n"
     ]
    }
   ],
   "source": [
    "vowels = ['a', 'e', 'i', 'o', 'u']\n",
    "vowels_comp = [word for sentence in paragraph for word in sentence.split() if word[0].lower() in vowels]\n",
    "print(vowels_comp)"
   ]
  },
  {
   "cell_type": "code",
   "execution_count": null,
   "metadata": {},
   "outputs": [],
   "source": []
  }
 ],
 "metadata": {
  "kernelspec": {
   "display_name": "Python 3",
   "language": "python",
   "name": "python3"
  },
  "language_info": {
   "codemirror_mode": {
    "name": "ipython",
    "version": 3
   },
   "file_extension": ".py",
   "mimetype": "text/x-python",
   "name": "python",
   "nbconvert_exporter": "python",
   "pygments_lexer": "ipython3",
   "version": "3.7.4"
  }
 },
 "nbformat": 4,
 "nbformat_minor": 2
}
