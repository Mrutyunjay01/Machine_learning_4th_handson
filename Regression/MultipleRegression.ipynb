{
 "cells": [
  {
   "cell_type": "markdown",
   "metadata": {},
   "source": [
    "## Improting needed packages"
   ]
  },
  {
   "cell_type": "code",
   "execution_count": 1,
   "metadata": {},
   "outputs": [],
   "source": [
    "import matplotlib.pyplot as plt\n",
    "import numpy as np\n",
    "import pandas as pd\n",
    "\n",
    "%matplotlib inline"
   ]
  },
  {
   "cell_type": "markdown",
   "metadata": {},
   "source": [
    "## Load and inspect the data"
   ]
  },
  {
   "cell_type": "code",
   "execution_count": 2,
   "metadata": {},
   "outputs": [],
   "source": [
    "df = pd.read_csv('FuelConsumption.csv')"
   ]
  },
  {
   "cell_type": "code",
   "execution_count": 3,
   "metadata": {},
   "outputs": [
    {
     "data": {
      "text/html": [
       "<div>\n",
       "<style scoped>\n",
       "    .dataframe tbody tr th:only-of-type {\n",
       "        vertical-align: middle;\n",
       "    }\n",
       "\n",
       "    .dataframe tbody tr th {\n",
       "        vertical-align: top;\n",
       "    }\n",
       "\n",
       "    .dataframe thead th {\n",
       "        text-align: right;\n",
       "    }\n",
       "</style>\n",
       "<table border=\"1\" class=\"dataframe\">\n",
       "  <thead>\n",
       "    <tr style=\"text-align: right;\">\n",
       "      <th></th>\n",
       "      <th>MODELYEAR</th>\n",
       "      <th>MAKE</th>\n",
       "      <th>MODEL</th>\n",
       "      <th>VEHICLECLASS</th>\n",
       "      <th>ENGINESIZE</th>\n",
       "      <th>CYLINDERS</th>\n",
       "      <th>TRANSMISSION</th>\n",
       "      <th>FUELTYPE</th>\n",
       "      <th>FUELCONSUMPTION_CITY</th>\n",
       "      <th>FUELCONSUMPTION_HWY</th>\n",
       "      <th>FUELCONSUMPTION_COMB</th>\n",
       "      <th>FUELCONSUMPTION_COMB_MPG</th>\n",
       "      <th>CO2EMISSIONS</th>\n",
       "    </tr>\n",
       "  </thead>\n",
       "  <tbody>\n",
       "    <tr>\n",
       "      <th>0</th>\n",
       "      <td>2014</td>\n",
       "      <td>ACURA</td>\n",
       "      <td>ILX</td>\n",
       "      <td>COMPACT</td>\n",
       "      <td>2.0</td>\n",
       "      <td>4</td>\n",
       "      <td>AS5</td>\n",
       "      <td>Z</td>\n",
       "      <td>9.9</td>\n",
       "      <td>6.7</td>\n",
       "      <td>8.5</td>\n",
       "      <td>33</td>\n",
       "      <td>196</td>\n",
       "    </tr>\n",
       "    <tr>\n",
       "      <th>1</th>\n",
       "      <td>2014</td>\n",
       "      <td>ACURA</td>\n",
       "      <td>ILX</td>\n",
       "      <td>COMPACT</td>\n",
       "      <td>2.4</td>\n",
       "      <td>4</td>\n",
       "      <td>M6</td>\n",
       "      <td>Z</td>\n",
       "      <td>11.2</td>\n",
       "      <td>7.7</td>\n",
       "      <td>9.6</td>\n",
       "      <td>29</td>\n",
       "      <td>221</td>\n",
       "    </tr>\n",
       "    <tr>\n",
       "      <th>2</th>\n",
       "      <td>2014</td>\n",
       "      <td>ACURA</td>\n",
       "      <td>ILX HYBRID</td>\n",
       "      <td>COMPACT</td>\n",
       "      <td>1.5</td>\n",
       "      <td>4</td>\n",
       "      <td>AV7</td>\n",
       "      <td>Z</td>\n",
       "      <td>6.0</td>\n",
       "      <td>5.8</td>\n",
       "      <td>5.9</td>\n",
       "      <td>48</td>\n",
       "      <td>136</td>\n",
       "    </tr>\n",
       "    <tr>\n",
       "      <th>3</th>\n",
       "      <td>2014</td>\n",
       "      <td>ACURA</td>\n",
       "      <td>MDX 4WD</td>\n",
       "      <td>SUV - SMALL</td>\n",
       "      <td>3.5</td>\n",
       "      <td>6</td>\n",
       "      <td>AS6</td>\n",
       "      <td>Z</td>\n",
       "      <td>12.7</td>\n",
       "      <td>9.1</td>\n",
       "      <td>11.1</td>\n",
       "      <td>25</td>\n",
       "      <td>255</td>\n",
       "    </tr>\n",
       "    <tr>\n",
       "      <th>4</th>\n",
       "      <td>2014</td>\n",
       "      <td>ACURA</td>\n",
       "      <td>RDX AWD</td>\n",
       "      <td>SUV - SMALL</td>\n",
       "      <td>3.5</td>\n",
       "      <td>6</td>\n",
       "      <td>AS6</td>\n",
       "      <td>Z</td>\n",
       "      <td>12.1</td>\n",
       "      <td>8.7</td>\n",
       "      <td>10.6</td>\n",
       "      <td>27</td>\n",
       "      <td>244</td>\n",
       "    </tr>\n",
       "  </tbody>\n",
       "</table>\n",
       "</div>"
      ],
      "text/plain": [
       "   MODELYEAR   MAKE       MODEL VEHICLECLASS  ENGINESIZE  CYLINDERS  \\\n",
       "0       2014  ACURA         ILX      COMPACT         2.0          4   \n",
       "1       2014  ACURA         ILX      COMPACT         2.4          4   \n",
       "2       2014  ACURA  ILX HYBRID      COMPACT         1.5          4   \n",
       "3       2014  ACURA     MDX 4WD  SUV - SMALL         3.5          6   \n",
       "4       2014  ACURA     RDX AWD  SUV - SMALL         3.5          6   \n",
       "\n",
       "  TRANSMISSION FUELTYPE  FUELCONSUMPTION_CITY  FUELCONSUMPTION_HWY  \\\n",
       "0          AS5        Z                   9.9                  6.7   \n",
       "1           M6        Z                  11.2                  7.7   \n",
       "2          AV7        Z                   6.0                  5.8   \n",
       "3          AS6        Z                  12.7                  9.1   \n",
       "4          AS6        Z                  12.1                  8.7   \n",
       "\n",
       "   FUELCONSUMPTION_COMB  FUELCONSUMPTION_COMB_MPG  CO2EMISSIONS  \n",
       "0                   8.5                        33           196  \n",
       "1                   9.6                        29           221  \n",
       "2                   5.9                        48           136  \n",
       "3                  11.1                        25           255  \n",
       "4                  10.6                        27           244  "
      ]
     },
     "execution_count": 3,
     "metadata": {},
     "output_type": "execute_result"
    }
   ],
   "source": [
    "df.head()"
   ]
  },
  {
   "cell_type": "markdown",
   "metadata": {},
   "source": [
    "### Understanding the data"
   ]
  },
  {
   "cell_type": "markdown",
   "metadata": {},
   "source": [
    "- MODELYEAR e.g. 2014\n",
    "- MAKE e.g. Acura\n",
    "- MODEL e.g. ILX\n",
    "- VEHICLE CLASS e.g. SUV\n",
    "- ENGINE SIZE e.g. 4.7\n",
    "- CYLINDERS e.g 6\n",
    "- TRANSMISSION e.g. A6\n",
    "- FUELTYPE e.g. z\n",
    "- FUEL CONSUMPTION in CITY(L/100 km) e.g. 9.9\n",
    "- FUEL CONSUMPTION in HWY (L/100 km) e.g. 8.9\n",
    "- FUEL CONSUMPTION COMB (L/100 km) e.g. 9.2\n",
    "- CO2 EMISSIONS (g/km) e.g. 182 --> low --> 0"
   ]
  },
  {
   "cell_type": "markdown",
   "metadata": {},
   "source": [
    "Plot the features against our target variable i.e CO2EMISSION"
   ]
  },
  {
   "cell_type": "code",
   "execution_count": 4,
   "metadata": {},
   "outputs": [
    {
     "data": {
      "text/plain": [
       "MODELYEAR                     int64\n",
       "MAKE                         object\n",
       "MODEL                        object\n",
       "VEHICLECLASS                 object\n",
       "ENGINESIZE                  float64\n",
       "CYLINDERS                     int64\n",
       "TRANSMISSION                 object\n",
       "FUELTYPE                     object\n",
       "FUELCONSUMPTION_CITY        float64\n",
       "FUELCONSUMPTION_HWY         float64\n",
       "FUELCONSUMPTION_COMB        float64\n",
       "FUELCONSUMPTION_COMB_MPG      int64\n",
       "CO2EMISSIONS                  int64\n",
       "dtype: object"
      ]
     },
     "execution_count": 4,
     "metadata": {},
     "output_type": "execute_result"
    }
   ],
   "source": [
    "df.dtypes"
   ]
  },
  {
   "cell_type": "code",
   "execution_count": 6,
   "metadata": {},
   "outputs": [],
   "source": [
    "data_not_num = df.select_dtypes(['object'])"
   ]
  },
  {
   "cell_type": "code",
   "execution_count": 7,
   "metadata": {},
   "outputs": [],
   "source": [
    "data_not_num_processed = pd.get_dummies(data_not_num)"
   ]
  },
  {
   "cell_type": "code",
   "execution_count": 8,
   "metadata": {},
   "outputs": [
    {
     "data": {
      "text/html": [
       "<div>\n",
       "<style scoped>\n",
       "    .dataframe tbody tr th:only-of-type {\n",
       "        vertical-align: middle;\n",
       "    }\n",
       "\n",
       "    .dataframe tbody tr th {\n",
       "        vertical-align: top;\n",
       "    }\n",
       "\n",
       "    .dataframe thead th {\n",
       "        text-align: right;\n",
       "    }\n",
       "</style>\n",
       "<table border=\"1\" class=\"dataframe\">\n",
       "  <thead>\n",
       "    <tr style=\"text-align: right;\">\n",
       "      <th></th>\n",
       "      <th>MAKE_ACURA</th>\n",
       "      <th>MAKE_ASTON MARTIN</th>\n",
       "      <th>MAKE_AUDI</th>\n",
       "      <th>MAKE_BENTLEY</th>\n",
       "      <th>MAKE_BMW</th>\n",
       "      <th>MAKE_BUICK</th>\n",
       "      <th>MAKE_CADILLAC</th>\n",
       "      <th>MAKE_CHEVROLET</th>\n",
       "      <th>MAKE_CHRYSLER</th>\n",
       "      <th>MAKE_DODGE</th>\n",
       "      <th>...</th>\n",
       "      <th>TRANSMISSION_AV6</th>\n",
       "      <th>TRANSMISSION_AV7</th>\n",
       "      <th>TRANSMISSION_AV8</th>\n",
       "      <th>TRANSMISSION_M5</th>\n",
       "      <th>TRANSMISSION_M6</th>\n",
       "      <th>TRANSMISSION_M7</th>\n",
       "      <th>FUELTYPE_D</th>\n",
       "      <th>FUELTYPE_E</th>\n",
       "      <th>FUELTYPE_X</th>\n",
       "      <th>FUELTYPE_Z</th>\n",
       "    </tr>\n",
       "  </thead>\n",
       "  <tbody>\n",
       "    <tr>\n",
       "      <th>0</th>\n",
       "      <td>1</td>\n",
       "      <td>0</td>\n",
       "      <td>0</td>\n",
       "      <td>0</td>\n",
       "      <td>0</td>\n",
       "      <td>0</td>\n",
       "      <td>0</td>\n",
       "      <td>0</td>\n",
       "      <td>0</td>\n",
       "      <td>0</td>\n",
       "      <td>...</td>\n",
       "      <td>0</td>\n",
       "      <td>0</td>\n",
       "      <td>0</td>\n",
       "      <td>0</td>\n",
       "      <td>0</td>\n",
       "      <td>0</td>\n",
       "      <td>0</td>\n",
       "      <td>0</td>\n",
       "      <td>0</td>\n",
       "      <td>1</td>\n",
       "    </tr>\n",
       "    <tr>\n",
       "      <th>1</th>\n",
       "      <td>1</td>\n",
       "      <td>0</td>\n",
       "      <td>0</td>\n",
       "      <td>0</td>\n",
       "      <td>0</td>\n",
       "      <td>0</td>\n",
       "      <td>0</td>\n",
       "      <td>0</td>\n",
       "      <td>0</td>\n",
       "      <td>0</td>\n",
       "      <td>...</td>\n",
       "      <td>0</td>\n",
       "      <td>0</td>\n",
       "      <td>0</td>\n",
       "      <td>0</td>\n",
       "      <td>1</td>\n",
       "      <td>0</td>\n",
       "      <td>0</td>\n",
       "      <td>0</td>\n",
       "      <td>0</td>\n",
       "      <td>1</td>\n",
       "    </tr>\n",
       "    <tr>\n",
       "      <th>2</th>\n",
       "      <td>1</td>\n",
       "      <td>0</td>\n",
       "      <td>0</td>\n",
       "      <td>0</td>\n",
       "      <td>0</td>\n",
       "      <td>0</td>\n",
       "      <td>0</td>\n",
       "      <td>0</td>\n",
       "      <td>0</td>\n",
       "      <td>0</td>\n",
       "      <td>...</td>\n",
       "      <td>0</td>\n",
       "      <td>1</td>\n",
       "      <td>0</td>\n",
       "      <td>0</td>\n",
       "      <td>0</td>\n",
       "      <td>0</td>\n",
       "      <td>0</td>\n",
       "      <td>0</td>\n",
       "      <td>0</td>\n",
       "      <td>1</td>\n",
       "    </tr>\n",
       "    <tr>\n",
       "      <th>3</th>\n",
       "      <td>1</td>\n",
       "      <td>0</td>\n",
       "      <td>0</td>\n",
       "      <td>0</td>\n",
       "      <td>0</td>\n",
       "      <td>0</td>\n",
       "      <td>0</td>\n",
       "      <td>0</td>\n",
       "      <td>0</td>\n",
       "      <td>0</td>\n",
       "      <td>...</td>\n",
       "      <td>0</td>\n",
       "      <td>0</td>\n",
       "      <td>0</td>\n",
       "      <td>0</td>\n",
       "      <td>0</td>\n",
       "      <td>0</td>\n",
       "      <td>0</td>\n",
       "      <td>0</td>\n",
       "      <td>0</td>\n",
       "      <td>1</td>\n",
       "    </tr>\n",
       "    <tr>\n",
       "      <th>4</th>\n",
       "      <td>1</td>\n",
       "      <td>0</td>\n",
       "      <td>0</td>\n",
       "      <td>0</td>\n",
       "      <td>0</td>\n",
       "      <td>0</td>\n",
       "      <td>0</td>\n",
       "      <td>0</td>\n",
       "      <td>0</td>\n",
       "      <td>0</td>\n",
       "      <td>...</td>\n",
       "      <td>0</td>\n",
       "      <td>0</td>\n",
       "      <td>0</td>\n",
       "      <td>0</td>\n",
       "      <td>0</td>\n",
       "      <td>0</td>\n",
       "      <td>0</td>\n",
       "      <td>0</td>\n",
       "      <td>0</td>\n",
       "      <td>1</td>\n",
       "    </tr>\n",
       "  </tbody>\n",
       "</table>\n",
       "<p>5 rows × 744 columns</p>\n",
       "</div>"
      ],
      "text/plain": [
       "   MAKE_ACURA  MAKE_ASTON MARTIN  MAKE_AUDI  MAKE_BENTLEY  MAKE_BMW  \\\n",
       "0           1                  0          0             0         0   \n",
       "1           1                  0          0             0         0   \n",
       "2           1                  0          0             0         0   \n",
       "3           1                  0          0             0         0   \n",
       "4           1                  0          0             0         0   \n",
       "\n",
       "   MAKE_BUICK  MAKE_CADILLAC  MAKE_CHEVROLET  MAKE_CHRYSLER  MAKE_DODGE  ...  \\\n",
       "0           0              0               0              0           0  ...   \n",
       "1           0              0               0              0           0  ...   \n",
       "2           0              0               0              0           0  ...   \n",
       "3           0              0               0              0           0  ...   \n",
       "4           0              0               0              0           0  ...   \n",
       "\n",
       "   TRANSMISSION_AV6  TRANSMISSION_AV7  TRANSMISSION_AV8  TRANSMISSION_M5  \\\n",
       "0                 0                 0                 0                0   \n",
       "1                 0                 0                 0                0   \n",
       "2                 0                 1                 0                0   \n",
       "3                 0                 0                 0                0   \n",
       "4                 0                 0                 0                0   \n",
       "\n",
       "   TRANSMISSION_M6  TRANSMISSION_M7  FUELTYPE_D  FUELTYPE_E  FUELTYPE_X  \\\n",
       "0                0                0           0           0           0   \n",
       "1                1                0           0           0           0   \n",
       "2                0                0           0           0           0   \n",
       "3                0                0           0           0           0   \n",
       "4                0                0           0           0           0   \n",
       "\n",
       "   FUELTYPE_Z  \n",
       "0           1  \n",
       "1           1  \n",
       "2           1  \n",
       "3           1  \n",
       "4           1  \n",
       "\n",
       "[5 rows x 744 columns]"
      ]
     },
     "execution_count": 8,
     "metadata": {},
     "output_type": "execute_result"
    }
   ],
   "source": [
    "data_not_num_processed.head()"
   ]
  },
  {
   "cell_type": "code",
   "execution_count": 9,
   "metadata": {},
   "outputs": [
    {
     "data": {
      "text/plain": [
       "OneHotEncoder(categorical_features=None, categories=None, drop=None,\n",
       "              dtype=<class 'numpy.float64'>, handle_unknown='error',\n",
       "              n_values=None, sparse=True)"
      ]
     },
     "execution_count": 9,
     "metadata": {},
     "output_type": "execute_result"
    }
   ],
   "source": [
    "from sklearn.preprocessing import OneHotEncoder\n",
    "\n",
    "oe = OneHotEncoder()\n",
    "oe.fit(data_not_num)"
   ]
  },
  {
   "cell_type": "code",
   "execution_count": 10,
   "metadata": {},
   "outputs": [
    {
     "data": {
      "text/plain": [
       "[array(['ACURA', 'ASTON MARTIN', 'AUDI', 'BENTLEY', 'BMW', 'BUICK',\n",
       "        'CADILLAC', 'CHEVROLET', 'CHRYSLER', 'DODGE', 'FIAT', 'FORD',\n",
       "        'GMC', 'HONDA', 'HYUNDAI', 'INFINITI', 'JAGUAR', 'JEEP', 'KIA',\n",
       "        'LAMBORGHINI', 'LAND ROVER', 'LEXUS', 'LINCOLN', 'MASERATI',\n",
       "        'MAZDA', 'MERCEDES-BENZ', 'MINI', 'MITSUBISHI', 'NISSAN',\n",
       "        'PORSCHE', 'RAM', 'ROLLS-ROYCE', 'SCION', 'SMART', 'SRT', 'SUBARU',\n",
       "        'TOYOTA', 'VOLKSWAGEN', 'VOLVO'], dtype=object),\n",
       " array(['1500 (MDS)', '1500 4X4 (MDS)', '1500 4X4 DIESEL', '1500 4X4 FFV',\n",
       "        '1500 DIESEL', '1500 FFV', '1500 HFE', '200 CONVERTIBLE',\n",
       "        '200 CONVERTIBLE FFV', '200 SEDAN', '200 SEDAN FFV', '300',\n",
       "        '300 (MDS)', '300 AWD', '300 AWD (MDS)', '300 AWD FFV', '300 FFV',\n",
       "        '300 SRT (MDS)', '320i', '320i xDRIVE', '328d xDRIVE',\n",
       "        '328d xDRIVE TOURING', '328i', '328i xDRIVE',\n",
       "        '328i xDRIVE GRAN TURISMO', '328i xDRIVE TOURING', '335i',\n",
       "        '335i xDRIVE', '335i xDRIVE GRAN TURISMO', '370Z', '370Z ROADSTER',\n",
       "        '428i COUPE', '428i xDRIVE COUPE', '435i COUPE',\n",
       "        '435i xDRIVE COUPE', '4RUNNER (Part-Time 4WD)', '4RUNNER 4WD',\n",
       "        '500 ABARTH CABRIO', '500 ABARTH HATCHBACK', '500 CABRIO',\n",
       "        '500 CABRIO TURBO', '500 HATCHBACK', '500 HATCHBACK TURBO',\n",
       "        '500L TURBO', '528i', '528i xDRIVE', '535d xDRIVE', '535i xDRIVE',\n",
       "        '535i xDRIVE GRAN TURISMO', '550i xDRIVE',\n",
       "        '550i xDRIVE GRAN TURISMO', '640i xDRIVE GRAN COUPE',\n",
       "        '650i xDRIVE CABRIOLET', '650i xDRIVE COUPE',\n",
       "        '650i xDRIVE GRAN COUPE', '740Li xDRIVE', '750Li xDRIVE',\n",
       "        '750i xDRIVE', '760Li', '911 CARRERA', '911 CARRERA 4',\n",
       "        '911 CARRERA 4 CABRIOLET', '911 CARRERA 4S',\n",
       "        '911 CARRERA 4S CABRIOLET', '911 CARRERA CABRIOLET',\n",
       "        '911 CARRERA S', '911 CARRERA S CABRIOLET', '911 GT3', '911 TURBO',\n",
       "        '911 TURBO CABRIOLET', '911 TURBO S', '911 TURBO S CABRIOLET',\n",
       "        'A4', 'A4 QUATTRO', 'A5 CABRIOLET QUATTRO', 'A5 QUATTRO',\n",
       "        'A6 QUATTRO', 'A6 QUATTRO TDI CLEAN DIESEL', 'A7 QUATTRO',\n",
       "        'A7 QUATTRO TDI CLEAN DIESEL', 'A8', 'A8 TDI CLEAN DIESEL', 'A8L',\n",
       "        'A8L TDI CLEAN DIESEL', 'ACADIA', 'ACADIA AWD', 'ACCENT', 'ACCORD',\n",
       "        'ACCORD HYBRID', 'ACTIVEHYBRID 3', 'ACTIVEHYBRID 5',\n",
       "        'ACTIVEHYBRID 7L', 'ALLROAD QUATTRO', 'ALPINA B7 xDRIVE LWB',\n",
       "        'ALPINA B7 xDRIVE SWB', 'ALTIMA', 'ARMADA 4WD', 'ATS', 'ATS AWD',\n",
       "        'AVALON', 'AVENGER', 'AVENGER FFV', 'AVENTADOR COUPE', 'B 250',\n",
       "        'BEETLE', 'BEETLE CONVERTIBLE', 'BEETLE TDI CLEAN DIESEL',\n",
       "        'BOXSTER', 'BOXSTER S', 'BRZ', 'C 250', 'C 250 COUPE',\n",
       "        'C 300 4MATIC FFV', 'C 350', 'C 350 4MATIC', 'C 350 4MATIC COUPE',\n",
       "        'C 350 COUPE', 'C 63 AMG', 'C 63 AMG COUPE', 'C-MAX HYBRID',\n",
       "        'CADENZA', 'CAMARO', 'CAMARO 2LS', 'CAMARO SS', 'CAMARO ZL1',\n",
       "        'CAMRY', 'CAMRY HYBRID LE', 'CAMRY HYBRID XLE/SE', 'CARGO VAN FFV',\n",
       "        'CAYENNE', 'CAYENNE DIESEL', 'CAYENNE GTS', 'CAYENNE S',\n",
       "        'CAYENNE S HYBRID', 'CAYENNE TURBO', 'CAYMAN', 'CAYMAN S', 'CC',\n",
       "        'CC 4MOTION', 'CHALLENGER', 'CHALLENGER (MDS)', 'CHALLENGER SRT',\n",
       "        'CHALLENGER SRT (MDS)', 'CHARGER', 'CHARGER (MDS)', 'CHARGER AWD',\n",
       "        'CHARGER AWD (MDS)', 'CHARGER AWD FFV', 'CHARGER FFV',\n",
       "        'CHARGER SRT (MDS)', 'CHEROKEE', 'CHEROKEE 4X4',\n",
       "        'CHEROKEE 4X4 Active Drive II', 'CHEROKEE TRAILHAWK 4X4', 'CIVIC',\n",
       "        'CL 550 4MATIC', 'CL 63 AMG', 'CLA 250', 'CLA 45 AMG 4MATIC',\n",
       "        'CLS 550 4MATIC', 'CLS 63 AMG 4MATIC', 'CLS 63 AMG S 4MATIC',\n",
       "        'COMPASS', 'COMPASS 4X4', 'COMPASS 4X4 TRAIL RATED',\n",
       "        'CONTINENTAL GT', 'CONTINENTAL GT CONVERTIBLE',\n",
       "        'CONTINENTAL GT SPEED CONVERTIBLE', 'CONTINENTAL GTC',\n",
       "        'COOPER CLUBMAN', 'COOPER CONVERTIBLE', 'COOPER COUNTRYMAN',\n",
       "        'COOPER COUPE', 'COOPER PACEMAN', 'COOPER ROADSTER',\n",
       "        'COOPER S CLUBMAN', 'COOPER S CONVERTIBLE',\n",
       "        'COOPER S COUNTRYMAN ALL4', 'COOPER S COUPE',\n",
       "        'COOPER S PACEMAN ALL4', 'COOPER S ROADSTER', 'COROLLA',\n",
       "        'COROLLA LE ECO (1-mode)', 'COROLLA LE ECO (2-mode)',\n",
       "        'COROLLA MATRIX', 'CORVETTE', 'CR-V', 'CR-V AWD', 'CR-Z',\n",
       "        'CROSSTOUR AWD', 'CRUZE', 'CRUZE DIESEL', 'CRUZE ECO', 'CT 200h',\n",
       "        'CTS COUPE', 'CTS COUPE AWD', 'CTS SEDAN', 'CTS SEDAN AWD',\n",
       "        'CTS SEDAN Vsport', 'CTS SPORT WAGON', 'CTS SPORT WAGON AWD',\n",
       "        'CTS-V COUPE', 'CTS-V SEDAN', 'CTS-V SPORT WAGON', 'CX-5',\n",
       "        'CX-5 4WD', 'CX-9', 'CX-9 4WD', 'DART', 'DART FFV', 'DART GT',\n",
       "        'DART TURBO AERO', 'DB9', 'DURANGO AWD (MDS)', 'DURANGO AWD FFV',\n",
       "        'E 250 BLUETEC 4MATIC', 'E 300 4MATIC', 'E 350 4MATIC',\n",
       "        'E 350 4MATIC COUPE', 'E 350 4MATIC WAGON', 'E 350 CABRIOLET',\n",
       "        'E 350 COUPE', 'E 400 HYBRID', 'E 550 4MATIC', 'E 550 CABRIOLET',\n",
       "        'E 550 COUPE', 'E 63 AMG 4MATIC', 'E 63 AMG 4MATIC WAGON',\n",
       "        'E 63 AMG S 4MATIC', 'E 63 AMG S 4MATIC WAGON', 'E150 VAN FFV',\n",
       "        'E150 WAGON FFV', 'E350 WAGON', 'E350 WAGON FFV', 'EDGE',\n",
       "        'EDGE AWD', 'ELANTRA GT', 'ENCLAVE', 'ENCLAVE AWD', 'ENCORE',\n",
       "        'ENCORE AWD', 'EOS', 'EQUINOX', 'EQUINOX AWD', 'EQUUS', 'ES 300h',\n",
       "        'ES 350', 'ESCALADE AWD', 'ESCALADE ESV AWD', 'ESCAPE',\n",
       "        'ESCAPE AWD', 'EXPEDITION 4X4 FFV', 'EXPLORER', 'EXPLORER AWD',\n",
       "        'EXPLORER FFV', 'EXPLORER FFV AWD', 'EXPRESS 1500 CARGO',\n",
       "        'EXPRESS 1500 CARGO AWD', 'EXPRESS 1500 CARGO CONV',\n",
       "        'EXPRESS 1500 CARGO CONV AWD', 'EXPRESS 1500 PASSENGER',\n",
       "        'EXPRESS 1500 PASSENGER AWD', 'EXPRESS 2500 PASSENGER',\n",
       "        'EXPRESS 3500 PASSENGER', 'F-TYPE CONVERTIBLE',\n",
       "        'F-TYPE S CONVERTIBLE', 'F-TYPE V8 S CONVERTIBLE', 'F150',\n",
       "        'F150 4X4', 'F150 FFV', 'F150 FFV 4X4', 'F150 RAPTOR 4X4',\n",
       "        'FIESTA', 'FIESTA SFE', 'FIESTA ST', 'FIT', 'FJ CRUISER 4WD',\n",
       "        'FLEX', 'FLEX AWD', 'FLEX AWD (EcoBoost)', 'FLYING SPUR', 'FOCUS',\n",
       "        'FOCUS FFV', 'FOCUS SFE FFV', 'FORESTER AWD', 'FORTE', 'FORTE 5',\n",
       "        'FORTE KOUP', 'FORTWO CABRIOLET', 'FORTWO COUPE', 'FR-S',\n",
       "        'FRONTIER', 'FRONTIER 4WD', 'FUSION', 'FUSION (Start/Stop)',\n",
       "        'FUSION AWD', 'FUSION HYBRID', 'G 550', 'G 63 AMG',\n",
       "        'GALLARDO COUPE', 'GENESIS', 'GHIBLI', 'GHIBLI AWD', 'GHOST',\n",
       "        'GHOST EWB', 'GL 350 BLUETEC 4MATIC', 'GL 450 4MATIC',\n",
       "        'GL 550 4MATIC', 'GL 63 AMG', 'GLK 250 BLUETEC 4MATIC',\n",
       "        'GLK 350 4MATIC', 'GOLF WAGON', 'GOLF WAGON TDI CLEAN DIESEL',\n",
       "        'GRAND CARAVAN FFV', 'GRAND CHEROKEE 4X4 (MDS)',\n",
       "        'GRAND CHEROKEE 4X4 DIESEL', 'GRAND CHEROKEE 4X4 FFV',\n",
       "        'GRAND CHEROKEE 4X4 SRT (MDS)', 'GRANTURISMO',\n",
       "        'GRANTURISMO CONVERTIBLE', 'GS 350', 'GS 350 AWD', 'GS 450h',\n",
       "        'GT-R', 'GX 460', 'HIGHLANDER', 'HIGHLANDER AWD',\n",
       "        'HIGHLANDER HYBRID AWD', 'HIGHLANDER HYBRID AWD LE', 'ILX',\n",
       "        'ILX HYBRID', 'IMPALA', 'IMPALA ECO', 'IMPREZA AWD',\n",
       "        'IMPREZA WAGON AWD', 'IS 250', 'IS 250 AWD', 'IS 250 C', 'IS 350',\n",
       "        'IS 350 AWD', 'IS 350 C', 'IS F', 'JETTA', 'JETTA GLI',\n",
       "        'JETTA TDI CLEAN DIESEL', 'JETTA TURBO HYBRID',\n",
       "        'JOHN COOPER WORKS CLUBMAN', 'JOHN COOPER WORKS CONVERTIBLE',\n",
       "        'JOHN COOPER WORKS COUNTRYMAN ALL4', 'JOHN COOPER WORKS COUPE',\n",
       "        'JOHN COOPER WORKS PACEMAN ALL4', 'JOHN COOPER WORKS ROADSTER',\n",
       "        'JOURNEY', 'JOURNEY AWD', 'JOURNEY FFV', 'JUKE', 'JUKE AWD',\n",
       "        'LACROSSE', 'LACROSSE AWD', 'LACROSSE eASSIST', 'LANCER',\n",
       "        'LANCER AWD', 'LANCER EVOLUTION', 'LANCER RALLIART',\n",
       "        'LANCER SPORTBACK', 'LEGACY AWD', 'LR2', 'LR4', 'LS 460',\n",
       "        'LS 460 AWD', 'LS 460 L AWD', 'LS 600h L', 'LX 570', 'M5', 'M6',\n",
       "        'M6 CABRIOLET', 'M6 GRAN COUPE', 'MALIBU', 'MAXIMA', 'MAZDA2',\n",
       "        'MAZDA3 4-DOOR', 'MAZDA3 4-DOOR (SIL)', 'MAZDA3 4-DOOR (i-ELOOP)',\n",
       "        'MAZDA3 5-DOOR', 'MAZDA3 5-DOOR (SIL)', 'MAZDA3 5-DOOR (i-ELOOP)',\n",
       "        'MAZDA5', 'MAZDA6', 'MAZDA6 (i-ELOOP)', 'MDX 4WD', 'MIRAGE',\n",
       "        'MKS AWD', 'MKT AWD', 'MKT LIVERY', 'MKT LIVERY AWD', 'MKX AWD',\n",
       "        'MKZ', 'MKZ AWD', 'MKZ HYBRID', 'ML 350 4MATIC FFV',\n",
       "        'ML 350 BLUETEC 4MATIC', 'ML 550 4MATIC', 'ML 63 AMG 4MATIC',\n",
       "        'MULSANNE', 'MURANO AWD', 'MUSTANG', 'MUSTANG CONVERTIBLE', 'MX-5',\n",
       "        'NAVIGATOR 4X4 FFV', 'NV200 CARGO VAN', 'ODYSSEY', 'OPTIMA',\n",
       "        'ORLANDO', 'OUTBACK AWD', 'OUTLANDER', 'OUTLANDER 4WD', 'PANAMERA',\n",
       "        'PANAMERA 4', 'PANAMERA 4S', 'PANAMERA 4S EXECUTIVE',\n",
       "        'PANAMERA GTS', 'PANAMERA S', 'PANAMERA TURBO',\n",
       "        'PANAMERA TURBO EXECUTIVE', 'PASSAT', 'PASSAT TDI CLEAN DIESEL',\n",
       "        'PATHFINDER', 'PATHFINDER 4WD', 'PATHFINDER HYBRID 4WD', 'PATRIOT',\n",
       "        'PATRIOT 4X4', 'PATRIOT 4X4 TRAIL RATED', 'PHANTOM',\n",
       "        'PHANTOM COUPE', 'PHANTOM DROPHEAD COUPE', 'PHANTOM EWB', 'PILOT',\n",
       "        'PILOT AWD', 'PRIUS', 'PRIUS c', 'PRIUS v', 'Q5', 'Q5 HYBRID',\n",
       "        'Q5 TDI CLEAN DIESEL', 'Q50', 'Q50 AWD', 'Q50 HYBRID',\n",
       "        'Q50 HYBRID AWD', 'Q60 AWD COUPE', 'Q60 CONVERTIBLE', 'Q60 COUPE',\n",
       "        'Q7', 'Q7 TDI CLEAN DIESEL', 'Q70', 'Q70 AWD', 'Q70 HYBRID',\n",
       "        'QUATTROPORTE GTS', 'QUATTROPORTE SQ4', 'QUEST', 'QX50 AWD',\n",
       "        'QX60', 'QX60 AWD', 'QX60 HYBRID AWD', 'QX70 AWD', 'QX80 4WD',\n",
       "        'R8', 'R8 SPYDER', 'RANGE ROVER EVOQUE',\n",
       "        'RANGE ROVER EVOQUE COUPE', 'RANGE ROVER LWB V8 5.0 SC',\n",
       "        'RANGE ROVER LWB V8 5.0 SC FFV', 'RANGE ROVER SPORT V6 3.0 SC',\n",
       "        'RANGE ROVER SPORT V6 3.0 SC FFV', 'RANGE ROVER SPORT V8 5.0 SC',\n",
       "        'RANGE ROVER SPORT V8 5.0 SC FFV', 'RANGE ROVER V6 3.0 SC',\n",
       "        'RANGE ROVER V6 3.0 SC FFV', 'RANGE ROVER V8 5.0 SC',\n",
       "        'RANGE ROVER V8 5.0 SC FFV', 'RAPIDE', 'RAV4', 'RAV4 AWD',\n",
       "        'RAV4 LIMITED AWD', 'RDX AWD', 'REGAL', 'REGAL AWD',\n",
       "        'REGAL eASSIST', 'RIDGELINE AWD', 'RIO', 'RIO ECO', 'RLX', 'ROGUE',\n",
       "        'ROGUE AWD', 'RONDO', 'ROUTAN', 'RS5', 'RS5 CABRIOLET', 'RS7',\n",
       "        'RVR', 'RVR 4WD', 'RX 350 AWD', 'RX 450h AWD', 'S 550 4MATIC LWB',\n",
       "        'S 550 4MATIC SWB', 'S 63 AMG 4MATIC', 'S4', 'S5', 'S5 CABRIOLET',\n",
       "        'S6', 'S60', 'S60 AWD', 'S7', 'S8', 'S80', 'S80 AWD', 'SANTA FE',\n",
       "        'SANTA FE 4WD', 'SANTA FE SPORT', 'SANTA FE SPORT 4WD',\n",
       "        'SAVANA 1500 CARGO', 'SAVANA 1500 CARGO AWD',\n",
       "        'SAVANA 1500 CARGO CONV', 'SAVANA 1500 CARGO CONV AWD',\n",
       "        'SAVANA 1500 PASSENGER', 'SAVANA 1500 PASSENGER AWD',\n",
       "        'SAVANA 2500 PASSENGER', 'SAVANA 3500 PASSENGER', 'SEDONA',\n",
       "        'SENTRA', 'SEQUOIA 4WD', 'SIENNA', 'SIENNA AWD', 'SIERRA',\n",
       "        'SIERRA 4WD', 'SILVERADO', 'SILVERADO 4WD', 'SL 550', 'SL 63 AMG',\n",
       "        'SL 65 AMG', 'SLK 250', 'SLK 350', 'SLK 55 AMG',\n",
       "        'SLS AMG BLACK SERIES COUPE', 'SLS AMG GT COUPE',\n",
       "        'SLS AMG ROADSTER', 'SONATA', 'SONATA HYBRID',\n",
       "        'SONATA HYBRID LIMITED', 'SONIC', 'SONIC 5', 'SONIC 5 RS',\n",
       "        'SONIC RS', 'SORENTO', 'SORENTO 4WD', 'SOUL', 'SOUL ECO Dynamics',\n",
       "        'SPARK', 'SPORTAGE', 'SPORTAGE AWD', 'SQ5', 'SRX', 'SRX AWD',\n",
       "        'SUBURBAN', 'SUBURBAN 4WD', 'TACOMA', 'TACOMA 4WD', 'TAHOE',\n",
       "        'TAHOE 4WD', 'TAURUS', 'TAURUS AWD', 'TAURUS FFV',\n",
       "        'TAURUS FFV AWD', 'TERRAIN', 'TERRAIN AWD', 'TIGUAN',\n",
       "        'TIGUAN 4MOTION', 'TITAN', 'TITAN 4WD', 'TL', 'TL AWD', 'TOUAREG',\n",
       "        'TOUAREG TDI CLEAN DIESEL', 'TOWN & COUNTRY FFV',\n",
       "        'TRANSIT CONNECT', 'TRANSIT CONNECT TAXI', 'TRANSIT CONNECT WAGON',\n",
       "        'TRAVERSE', 'TRAVERSE AWD', 'TRAX', 'TRAX AWD', 'TRIBECA AWD',\n",
       "        'TSX', 'TT COUPE QUATTRO', 'TT ROADSTER QUATTRO',\n",
       "        'TTS COUPE QUATTRO', 'TTS ROADSTER QUATTRO', 'TUCSON',\n",
       "        'TUCSON 4WD', 'TUNDRA', 'TUNDRA 4WD', 'V8 VANTAGE', 'V8 VANTAGE S',\n",
       "        'VANQUISH', 'VELOSTER', 'VELOSTER TURBO', 'VENZA', 'VENZA 4WD',\n",
       "        'VERANO', 'VERSA', 'VIPER COUPE', 'VIPER GTS COUPE', 'WRAITH',\n",
       "        'WRANGLER 4X4 (2-DOOR)', 'WRANGLER UNLIMITED 4X4 (4-DOOR)',\n",
       "        'X1 xDRIVE28i', 'X1 xDRIVE35i', 'X3 xDRIVE28i', 'X3 xDRIVE35i',\n",
       "        'X5 xDRIVE35i', 'X5 xDRIVE50i', 'X6 M', 'X6 xDRIVE35i',\n",
       "        'X6 xDRIVE50i', 'XC60', 'XC60 AWD', 'XC70 AWD', 'XC90 AWD', 'XF',\n",
       "        'XF 3.0L AWD', 'XFR', 'XFR-S', 'XJ AWD', 'XJ SUPERCHARGED',\n",
       "        'XJL AWD PORTFOLIO', 'XJL SUPERCHARGED', 'XJR', 'XJR LWB',\n",
       "        'XK CONVERTIBLE', 'XK COUPE', 'XKR CONVERTIBLE', 'XKR COUPE',\n",
       "        'XKR-S CONVERTIBLE', 'XKR-S COUPE', 'XTERRA 4WD', 'XTS', 'XTS AWD',\n",
       "        'XTS Vsport AWD', 'XV CROSSTREK AWD', 'XV CROSSTREK HYBRID AWD',\n",
       "        'YARIS', 'YUKON', 'YUKON 4WD', 'YUKON DENALI AWD',\n",
       "        'YUKON DENALI XL AWD', 'YUKON XL', 'YUKON XL 4WD', 'Z4 sDRIVE28i',\n",
       "        'Z4 sDRIVE35i', 'Z4 sDRIVE35is', 'iQ', 'tC', 'xB', 'xD'],\n",
       "       dtype=object),\n",
       " array(['COMPACT', 'FULL-SIZE', 'MID-SIZE', 'MINICOMPACT', 'MINIVAN',\n",
       "        'PICKUP TRUCK - SMALL', 'PICKUP TRUCK - STANDARD',\n",
       "        'SPECIAL PURPOSE VEHICLE', 'STATION WAGON - MID-SIZE',\n",
       "        'STATION WAGON - SMALL', 'SUBCOMPACT', 'SUV - SMALL',\n",
       "        'SUV - STANDARD', 'TWO-SEATER', 'VAN - CARGO', 'VAN - PASSENGER'],\n",
       "       dtype=object),\n",
       " array(['A4', 'A5', 'A6', 'A7', 'A8', 'A9', 'AM5', 'AM6', 'AM7', 'AS4',\n",
       "        'AS5', 'AS6', 'AS7', 'AS8', 'AS9', 'AV', 'AV6', 'AV7', 'AV8', 'M5',\n",
       "        'M6', 'M7'], dtype=object),\n",
       " array(['D', 'E', 'X', 'Z'], dtype=object)]"
      ]
     },
     "execution_count": 10,
     "metadata": {},
     "output_type": "execute_result"
    }
   ],
   "source": [
    "oe.categories_"
   ]
  },
  {
   "cell_type": "code",
   "execution_count": 12,
   "metadata": {},
   "outputs": [],
   "source": [
    "data_featured = oe.transform(data_not_num)"
   ]
  },
  {
   "cell_type": "code",
   "execution_count": 24,
   "metadata": {},
   "outputs": [
    {
     "data": {
      "text/plain": [
       "(1067, 744)"
      ]
     },
     "execution_count": 24,
     "metadata": {},
     "output_type": "execute_result"
    }
   ],
   "source": [
    "data_featured.shape"
   ]
  },
  {
   "cell_type": "code",
   "execution_count": 14,
   "metadata": {},
   "outputs": [
    {
     "data": {
      "text/plain": [
       "scipy.sparse.csr.csr_matrix"
      ]
     },
     "execution_count": 14,
     "metadata": {},
     "output_type": "execute_result"
    }
   ],
   "source": [
    "type(data_featured)"
   ]
  },
  {
   "cell_type": "code",
   "execution_count": 15,
   "metadata": {},
   "outputs": [],
   "source": [
    "data_pre = oe.inverse_transform(data_featured)"
   ]
  },
  {
   "cell_type": "code",
   "execution_count": 16,
   "metadata": {},
   "outputs": [
    {
     "data": {
      "text/plain": [
       "numpy.ndarray"
      ]
     },
     "execution_count": 16,
     "metadata": {},
     "output_type": "execute_result"
    }
   ],
   "source": [
    "type(data_pre)"
   ]
  },
  {
   "cell_type": "code",
   "execution_count": 17,
   "metadata": {},
   "outputs": [
    {
     "data": {
      "text/plain": [
       "array([['ACURA', 'ILX', 'COMPACT', 'AS5', 'Z'],\n",
       "       ['ACURA', 'ILX', 'COMPACT', 'M6', 'Z'],\n",
       "       ['ACURA', 'ILX HYBRID', 'COMPACT', 'AV7', 'Z'],\n",
       "       ...,\n",
       "       ['VOLVO', 'XC70 AWD', 'SUV - SMALL', 'AS6', 'X'],\n",
       "       ['VOLVO', 'XC70 AWD', 'SUV - SMALL', 'AS6', 'X'],\n",
       "       ['VOLVO', 'XC90 AWD', 'SUV - STANDARD', 'AS6', 'X']], dtype=object)"
      ]
     },
     "execution_count": 17,
     "metadata": {},
     "output_type": "execute_result"
    }
   ],
   "source": [
    "data_pre"
   ]
  },
  {
   "cell_type": "code",
   "execution_count": 18,
   "metadata": {},
   "outputs": [
    {
     "name": "stdout",
     "output_type": "stream",
     "text": [
      "<class 'pandas.core.frame.DataFrame'>\n",
      "RangeIndex: 1067 entries, 0 to 1066\n",
      "Data columns (total 13 columns):\n",
      "MODELYEAR                   1067 non-null int64\n",
      "MAKE                        1067 non-null object\n",
      "MODEL                       1067 non-null object\n",
      "VEHICLECLASS                1067 non-null object\n",
      "ENGINESIZE                  1067 non-null float64\n",
      "CYLINDERS                   1067 non-null int64\n",
      "TRANSMISSION                1067 non-null object\n",
      "FUELTYPE                    1067 non-null object\n",
      "FUELCONSUMPTION_CITY        1067 non-null float64\n",
      "FUELCONSUMPTION_HWY         1067 non-null float64\n",
      "FUELCONSUMPTION_COMB        1067 non-null float64\n",
      "FUELCONSUMPTION_COMB_MPG    1067 non-null int64\n",
      "CO2EMISSIONS                1067 non-null int64\n",
      "dtypes: float64(4), int64(4), object(5)\n",
      "memory usage: 108.5+ KB\n"
     ]
    }
   ],
   "source": [
    "df.info()"
   ]
  },
  {
   "cell_type": "code",
   "execution_count": 20,
   "metadata": {},
   "outputs": [],
   "source": [
    "df_clean = df.drop([key for key in df.columns.to_list() if df[key].dtype == 'object'], axis = 1)"
   ]
  },
  {
   "cell_type": "code",
   "execution_count": 21,
   "metadata": {},
   "outputs": [
    {
     "data": {
      "text/html": [
       "<div>\n",
       "<style scoped>\n",
       "    .dataframe tbody tr th:only-of-type {\n",
       "        vertical-align: middle;\n",
       "    }\n",
       "\n",
       "    .dataframe tbody tr th {\n",
       "        vertical-align: top;\n",
       "    }\n",
       "\n",
       "    .dataframe thead th {\n",
       "        text-align: right;\n",
       "    }\n",
       "</style>\n",
       "<table border=\"1\" class=\"dataframe\">\n",
       "  <thead>\n",
       "    <tr style=\"text-align: right;\">\n",
       "      <th></th>\n",
       "      <th>MODELYEAR</th>\n",
       "      <th>ENGINESIZE</th>\n",
       "      <th>CYLINDERS</th>\n",
       "      <th>FUELCONSUMPTION_CITY</th>\n",
       "      <th>FUELCONSUMPTION_HWY</th>\n",
       "      <th>FUELCONSUMPTION_COMB</th>\n",
       "      <th>FUELCONSUMPTION_COMB_MPG</th>\n",
       "      <th>CO2EMISSIONS</th>\n",
       "    </tr>\n",
       "  </thead>\n",
       "  <tbody>\n",
       "    <tr>\n",
       "      <th>0</th>\n",
       "      <td>2014</td>\n",
       "      <td>2.0</td>\n",
       "      <td>4</td>\n",
       "      <td>9.9</td>\n",
       "      <td>6.7</td>\n",
       "      <td>8.5</td>\n",
       "      <td>33</td>\n",
       "      <td>196</td>\n",
       "    </tr>\n",
       "    <tr>\n",
       "      <th>1</th>\n",
       "      <td>2014</td>\n",
       "      <td>2.4</td>\n",
       "      <td>4</td>\n",
       "      <td>11.2</td>\n",
       "      <td>7.7</td>\n",
       "      <td>9.6</td>\n",
       "      <td>29</td>\n",
       "      <td>221</td>\n",
       "    </tr>\n",
       "    <tr>\n",
       "      <th>2</th>\n",
       "      <td>2014</td>\n",
       "      <td>1.5</td>\n",
       "      <td>4</td>\n",
       "      <td>6.0</td>\n",
       "      <td>5.8</td>\n",
       "      <td>5.9</td>\n",
       "      <td>48</td>\n",
       "      <td>136</td>\n",
       "    </tr>\n",
       "    <tr>\n",
       "      <th>3</th>\n",
       "      <td>2014</td>\n",
       "      <td>3.5</td>\n",
       "      <td>6</td>\n",
       "      <td>12.7</td>\n",
       "      <td>9.1</td>\n",
       "      <td>11.1</td>\n",
       "      <td>25</td>\n",
       "      <td>255</td>\n",
       "    </tr>\n",
       "    <tr>\n",
       "      <th>4</th>\n",
       "      <td>2014</td>\n",
       "      <td>3.5</td>\n",
       "      <td>6</td>\n",
       "      <td>12.1</td>\n",
       "      <td>8.7</td>\n",
       "      <td>10.6</td>\n",
       "      <td>27</td>\n",
       "      <td>244</td>\n",
       "    </tr>\n",
       "  </tbody>\n",
       "</table>\n",
       "</div>"
      ],
      "text/plain": [
       "   MODELYEAR  ENGINESIZE  CYLINDERS  FUELCONSUMPTION_CITY  \\\n",
       "0       2014         2.0          4                   9.9   \n",
       "1       2014         2.4          4                  11.2   \n",
       "2       2014         1.5          4                   6.0   \n",
       "3       2014         3.5          6                  12.7   \n",
       "4       2014         3.5          6                  12.1   \n",
       "\n",
       "   FUELCONSUMPTION_HWY  FUELCONSUMPTION_COMB  FUELCONSUMPTION_COMB_MPG  \\\n",
       "0                  6.7                   8.5                        33   \n",
       "1                  7.7                   9.6                        29   \n",
       "2                  5.8                   5.9                        48   \n",
       "3                  9.1                  11.1                        25   \n",
       "4                  8.7                  10.6                        27   \n",
       "\n",
       "   CO2EMISSIONS  \n",
       "0           196  \n",
       "1           221  \n",
       "2           136  \n",
       "3           255  \n",
       "4           244  "
      ]
     },
     "execution_count": 21,
     "metadata": {},
     "output_type": "execute_result"
    }
   ],
   "source": [
    "df_clean.head()"
   ]
  },
  {
   "cell_type": "code",
   "execution_count": 26,
   "metadata": {},
   "outputs": [
    {
     "name": "stderr",
     "output_type": "stream",
     "text": [
      "C:\\ProgramData\\Anaconda3\\lib\\site-packages\\ipykernel_launcher.py:5: SettingWithCopyWarning: \n",
      "A value is trying to be set on a copy of a slice from a DataFrame.\n",
      "Try using .loc[row_indexer,col_indexer] = value instead\n",
      "\n",
      "See the caveats in the documentation: http://pandas.pydata.org/pandas-docs/stable/user_guide/indexing.html#returning-a-view-versus-a-copy\n",
      "  \"\"\"\n"
     ]
    }
   ],
   "source": [
    "from sklearn.preprocessing import LabelEncoder\n",
    "\n",
    "le = LabelEncoder()\n",
    "for key in data_not_num.columns.to_list():\n",
    "    data_not_num[key] = le.fit_transform(data_not_num[key])"
   ]
  },
  {
   "cell_type": "code",
   "execution_count": 27,
   "metadata": {},
   "outputs": [
    {
     "data": {
      "text/html": [
       "<div>\n",
       "<style scoped>\n",
       "    .dataframe tbody tr th:only-of-type {\n",
       "        vertical-align: middle;\n",
       "    }\n",
       "\n",
       "    .dataframe tbody tr th {\n",
       "        vertical-align: top;\n",
       "    }\n",
       "\n",
       "    .dataframe thead th {\n",
       "        text-align: right;\n",
       "    }\n",
       "</style>\n",
       "<table border=\"1\" class=\"dataframe\">\n",
       "  <thead>\n",
       "    <tr style=\"text-align: right;\">\n",
       "      <th></th>\n",
       "      <th>MAKE</th>\n",
       "      <th>MODEL</th>\n",
       "      <th>VEHICLECLASS</th>\n",
       "      <th>TRANSMISSION</th>\n",
       "      <th>FUELTYPE</th>\n",
       "    </tr>\n",
       "  </thead>\n",
       "  <tbody>\n",
       "    <tr>\n",
       "      <th>0</th>\n",
       "      <td>0</td>\n",
       "      <td>329</td>\n",
       "      <td>0</td>\n",
       "      <td>10</td>\n",
       "      <td>3</td>\n",
       "    </tr>\n",
       "    <tr>\n",
       "      <th>1</th>\n",
       "      <td>0</td>\n",
       "      <td>329</td>\n",
       "      <td>0</td>\n",
       "      <td>20</td>\n",
       "      <td>3</td>\n",
       "    </tr>\n",
       "    <tr>\n",
       "      <th>2</th>\n",
       "      <td>0</td>\n",
       "      <td>330</td>\n",
       "      <td>0</td>\n",
       "      <td>17</td>\n",
       "      <td>3</td>\n",
       "    </tr>\n",
       "    <tr>\n",
       "      <th>3</th>\n",
       "      <td>0</td>\n",
       "      <td>389</td>\n",
       "      <td>11</td>\n",
       "      <td>11</td>\n",
       "      <td>3</td>\n",
       "    </tr>\n",
       "    <tr>\n",
       "      <th>4</th>\n",
       "      <td>0</td>\n",
       "      <td>483</td>\n",
       "      <td>11</td>\n",
       "      <td>11</td>\n",
       "      <td>3</td>\n",
       "    </tr>\n",
       "  </tbody>\n",
       "</table>\n",
       "</div>"
      ],
      "text/plain": [
       "   MAKE  MODEL  VEHICLECLASS  TRANSMISSION  FUELTYPE\n",
       "0     0    329             0            10         3\n",
       "1     0    329             0            20         3\n",
       "2     0    330             0            17         3\n",
       "3     0    389            11            11         3\n",
       "4     0    483            11            11         3"
      ]
     },
     "execution_count": 27,
     "metadata": {},
     "output_type": "execute_result"
    }
   ],
   "source": [
    "data_not_num.head()"
   ]
  },
  {
   "cell_type": "code",
   "execution_count": 33,
   "metadata": {},
   "outputs": [],
   "source": [
    "final_data = pd.concat([df_clean, data_not_num], sort=False, axis=1)"
   ]
  },
  {
   "cell_type": "code",
   "execution_count": 34,
   "metadata": {},
   "outputs": [
    {
     "data": {
      "text/html": [
       "<div>\n",
       "<style scoped>\n",
       "    .dataframe tbody tr th:only-of-type {\n",
       "        vertical-align: middle;\n",
       "    }\n",
       "\n",
       "    .dataframe tbody tr th {\n",
       "        vertical-align: top;\n",
       "    }\n",
       "\n",
       "    .dataframe thead th {\n",
       "        text-align: right;\n",
       "    }\n",
       "</style>\n",
       "<table border=\"1\" class=\"dataframe\">\n",
       "  <thead>\n",
       "    <tr style=\"text-align: right;\">\n",
       "      <th></th>\n",
       "      <th>MODELYEAR</th>\n",
       "      <th>ENGINESIZE</th>\n",
       "      <th>CYLINDERS</th>\n",
       "      <th>FUELCONSUMPTION_CITY</th>\n",
       "      <th>FUELCONSUMPTION_HWY</th>\n",
       "      <th>FUELCONSUMPTION_COMB</th>\n",
       "      <th>FUELCONSUMPTION_COMB_MPG</th>\n",
       "      <th>CO2EMISSIONS</th>\n",
       "      <th>MAKE</th>\n",
       "      <th>MODEL</th>\n",
       "      <th>VEHICLECLASS</th>\n",
       "      <th>TRANSMISSION</th>\n",
       "      <th>FUELTYPE</th>\n",
       "    </tr>\n",
       "  </thead>\n",
       "  <tbody>\n",
       "    <tr>\n",
       "      <th>0</th>\n",
       "      <td>2014</td>\n",
       "      <td>2.0</td>\n",
       "      <td>4</td>\n",
       "      <td>9.9</td>\n",
       "      <td>6.7</td>\n",
       "      <td>8.5</td>\n",
       "      <td>33</td>\n",
       "      <td>196</td>\n",
       "      <td>0</td>\n",
       "      <td>329</td>\n",
       "      <td>0</td>\n",
       "      <td>10</td>\n",
       "      <td>3</td>\n",
       "    </tr>\n",
       "    <tr>\n",
       "      <th>1</th>\n",
       "      <td>2014</td>\n",
       "      <td>2.4</td>\n",
       "      <td>4</td>\n",
       "      <td>11.2</td>\n",
       "      <td>7.7</td>\n",
       "      <td>9.6</td>\n",
       "      <td>29</td>\n",
       "      <td>221</td>\n",
       "      <td>0</td>\n",
       "      <td>329</td>\n",
       "      <td>0</td>\n",
       "      <td>20</td>\n",
       "      <td>3</td>\n",
       "    </tr>\n",
       "    <tr>\n",
       "      <th>2</th>\n",
       "      <td>2014</td>\n",
       "      <td>1.5</td>\n",
       "      <td>4</td>\n",
       "      <td>6.0</td>\n",
       "      <td>5.8</td>\n",
       "      <td>5.9</td>\n",
       "      <td>48</td>\n",
       "      <td>136</td>\n",
       "      <td>0</td>\n",
       "      <td>330</td>\n",
       "      <td>0</td>\n",
       "      <td>17</td>\n",
       "      <td>3</td>\n",
       "    </tr>\n",
       "    <tr>\n",
       "      <th>3</th>\n",
       "      <td>2014</td>\n",
       "      <td>3.5</td>\n",
       "      <td>6</td>\n",
       "      <td>12.7</td>\n",
       "      <td>9.1</td>\n",
       "      <td>11.1</td>\n",
       "      <td>25</td>\n",
       "      <td>255</td>\n",
       "      <td>0</td>\n",
       "      <td>389</td>\n",
       "      <td>11</td>\n",
       "      <td>11</td>\n",
       "      <td>3</td>\n",
       "    </tr>\n",
       "    <tr>\n",
       "      <th>4</th>\n",
       "      <td>2014</td>\n",
       "      <td>3.5</td>\n",
       "      <td>6</td>\n",
       "      <td>12.1</td>\n",
       "      <td>8.7</td>\n",
       "      <td>10.6</td>\n",
       "      <td>27</td>\n",
       "      <td>244</td>\n",
       "      <td>0</td>\n",
       "      <td>483</td>\n",
       "      <td>11</td>\n",
       "      <td>11</td>\n",
       "      <td>3</td>\n",
       "    </tr>\n",
       "  </tbody>\n",
       "</table>\n",
       "</div>"
      ],
      "text/plain": [
       "   MODELYEAR  ENGINESIZE  CYLINDERS  FUELCONSUMPTION_CITY  \\\n",
       "0       2014         2.0          4                   9.9   \n",
       "1       2014         2.4          4                  11.2   \n",
       "2       2014         1.5          4                   6.0   \n",
       "3       2014         3.5          6                  12.7   \n",
       "4       2014         3.5          6                  12.1   \n",
       "\n",
       "   FUELCONSUMPTION_HWY  FUELCONSUMPTION_COMB  FUELCONSUMPTION_COMB_MPG  \\\n",
       "0                  6.7                   8.5                        33   \n",
       "1                  7.7                   9.6                        29   \n",
       "2                  5.8                   5.9                        48   \n",
       "3                  9.1                  11.1                        25   \n",
       "4                  8.7                  10.6                        27   \n",
       "\n",
       "   CO2EMISSIONS  MAKE  MODEL  VEHICLECLASS  TRANSMISSION  FUELTYPE  \n",
       "0           196     0    329             0            10         3  \n",
       "1           221     0    329             0            20         3  \n",
       "2           136     0    330             0            17         3  \n",
       "3           255     0    389            11            11         3  \n",
       "4           244     0    483            11            11         3  "
      ]
     },
     "execution_count": 34,
     "metadata": {},
     "output_type": "execute_result"
    }
   ],
   "source": [
    "final_data.head()"
   ]
  },
  {
   "cell_type": "code",
   "execution_count": 38,
   "metadata": {},
   "outputs": [],
   "source": [
    "features = final_data.drop(['CO2EMISSIONS'], axis=1)\n",
    "target = final_data['CO2EMISSIONS']"
   ]
  },
  {
   "cell_type": "code",
   "execution_count": 41,
   "metadata": {},
   "outputs": [
    {
     "data": {
      "image/png": "[encoded data removed]",
      "text/plain": [
       "<Figure size 432x288 with 1 Axes>"
      ]
     },
     "metadata": {
      "needs_background": "light"
     },
     "output_type": "display_data"
    },
    {
     "data": {
      "image/png": "[encoded data removed]",
      "text/plain": [
       "<Figure size 432x288 with 1 Axes>"
      ]
     },
     "metadata": {
      "needs_background": "light"
     },
     "output_type": "display_data"
    },
    {
     "data": {
      "image/png": "[encoded data removed]",
      "text/plain": [
       "<Figure size 432x288 with 1 Axes>"
      ]
     },
     "metadata": {
      "needs_background": "light"
     },
     "output_type": "display_data"
    },
    {
     "data": {
      "image/png": "[encoded data removed]",
      "text/plain": [
       "<Figure size 432x288 with 1 Axes>"
      ]
     },
     "metadata": {
      "needs_background": "light"
     },
     "output_type": "display_data"
    },
    {
     "data": {
      "image/png": "[encoded data removed]",
      "text/plain": [
       "<Figure size 432x288 with 1 Axes>"
      ]
     },
     "metadata": {
      "needs_background": "light"
     },
     "output_type": "display_data"
    },
    {
     "data": {
      "image/png": "[encoded data removed]",
      "text/plain": [
       "<Figure size 432x288 with 1 Axes>"
      ]
     },
     "metadata": {
      "needs_background": "light"
     },
     "output_type": "display_data"
    },
    {
     "data": {
      "image/png": "[encoded data removed]",
      "text/plain": [
       "<Figure size 432x288 with 1 Axes>"
      ]
     },
     "metadata": {
      "needs_background": "light"
     },
     "output_type": "display_data"
    },
    {
     "data": {
      "image/png": "[encoded data removed]",
      "text/plain": [
       "<Figure size 432x288 with 1 Axes>"
      ]
     },
     "metadata": {
      "needs_background": "light"
     },
     "output_type": "display_data"
    },
    {
     "data": {
      "image/png": "[encoded data removed]",
      "text/plain": [
       "<Figure size 432x288 with 1 Axes>"
      ]
     },
     "metadata": {
      "needs_background": "light"
     },
     "output_type": "display_data"
    },
    {
     "data": {
      "image/png": "[encoded data removed]",
      "text/plain": [
       "<Figure size 432x288 with 1 Axes>"
      ]
     },
     "metadata": {
      "needs_background": "light"
     },
     "output_type": "display_data"
    },
    {
     "data": {
      "image/png": "[encoded data removed]",
      "text/plain": [
       "<Figure size 432x288 with 1 Axes>"
      ]
     },
     "metadata": {
      "needs_background": "light"
     },
     "output_type": "display_data"
    },
    {
     "data": {
      "image/png": "[encoded data removed]",
      "text/plain": [
       "<Figure size 432x288 with 1 Axes>"
      ]
     },
     "metadata": {
      "needs_background": "light"
     },
     "output_type": "display_data"
    }
   ],
   "source": [
    "for key in features.columns.to_list():\n",
    "    plt.figure()\n",
    "    plt.scatter(features[key], target)\n",
    "    plt.xlabel(key)\n",
    "    plt.ylabel('CO2 emissions')\n",
    "    plt.show()"
   ]
  },
  {
   "cell_type": "code",
   "execution_count": 42,
   "metadata": {},
   "outputs": [],
   "source": [
    "# mask method for splitling train-test data\n",
    "mask = np.random.rand(len(final_data)) < 0.8 #80% train, 20% test\n",
    "train = final_data[mask]\n",
    "test = final_data[~mask]"
   ]
  },
  {
   "cell_type": "code",
   "execution_count": 43,
   "metadata": {},
   "outputs": [
    {
     "data": {
      "text/html": [
       "<div>\n",
       "<style scoped>\n",
       "    .dataframe tbody tr th:only-of-type {\n",
       "        vertical-align: middle;\n",
       "    }\n",
       "\n",
       "    .dataframe tbody tr th {\n",
       "        vertical-align: top;\n",
       "    }\n",
       "\n",
       "    .dataframe thead th {\n",
       "        text-align: right;\n",
       "    }\n",
       "</style>\n",
       "<table border=\"1\" class=\"dataframe\">\n",
       "  <thead>\n",
       "    <tr style=\"text-align: right;\">\n",
       "      <th></th>\n",
       "      <th>MODELYEAR</th>\n",
       "      <th>ENGINESIZE</th>\n",
       "      <th>CYLINDERS</th>\n",
       "      <th>FUELCONSUMPTION_CITY</th>\n",
       "      <th>FUELCONSUMPTION_HWY</th>\n",
       "      <th>FUELCONSUMPTION_COMB</th>\n",
       "      <th>FUELCONSUMPTION_COMB_MPG</th>\n",
       "      <th>CO2EMISSIONS</th>\n",
       "      <th>MAKE</th>\n",
       "      <th>MODEL</th>\n",
       "      <th>VEHICLECLASS</th>\n",
       "      <th>TRANSMISSION</th>\n",
       "      <th>FUELTYPE</th>\n",
       "    </tr>\n",
       "  </thead>\n",
       "  <tbody>\n",
       "    <tr>\n",
       "      <th>0</th>\n",
       "      <td>2014</td>\n",
       "      <td>2.0</td>\n",
       "      <td>4</td>\n",
       "      <td>9.9</td>\n",
       "      <td>6.7</td>\n",
       "      <td>8.5</td>\n",
       "      <td>33</td>\n",
       "      <td>196</td>\n",
       "      <td>0</td>\n",
       "      <td>329</td>\n",
       "      <td>0</td>\n",
       "      <td>10</td>\n",
       "      <td>3</td>\n",
       "    </tr>\n",
       "    <tr>\n",
       "      <th>1</th>\n",
       "      <td>2014</td>\n",
       "      <td>2.4</td>\n",
       "      <td>4</td>\n",
       "      <td>11.2</td>\n",
       "      <td>7.7</td>\n",
       "      <td>9.6</td>\n",
       "      <td>29</td>\n",
       "      <td>221</td>\n",
       "      <td>0</td>\n",
       "      <td>329</td>\n",
       "      <td>0</td>\n",
       "      <td>20</td>\n",
       "      <td>3</td>\n",
       "    </tr>\n",
       "    <tr>\n",
       "      <th>2</th>\n",
       "      <td>2014</td>\n",
       "      <td>1.5</td>\n",
       "      <td>4</td>\n",
       "      <td>6.0</td>\n",
       "      <td>5.8</td>\n",
       "      <td>5.9</td>\n",
       "      <td>48</td>\n",
       "      <td>136</td>\n",
       "      <td>0</td>\n",
       "      <td>330</td>\n",
       "      <td>0</td>\n",
       "      <td>17</td>\n",
       "      <td>3</td>\n",
       "    </tr>\n",
       "    <tr>\n",
       "      <th>4</th>\n",
       "      <td>2014</td>\n",
       "      <td>3.5</td>\n",
       "      <td>6</td>\n",
       "      <td>12.1</td>\n",
       "      <td>8.7</td>\n",
       "      <td>10.6</td>\n",
       "      <td>27</td>\n",
       "      <td>244</td>\n",
       "      <td>0</td>\n",
       "      <td>483</td>\n",
       "      <td>11</td>\n",
       "      <td>11</td>\n",
       "      <td>3</td>\n",
       "    </tr>\n",
       "    <tr>\n",
       "      <th>5</th>\n",
       "      <td>2014</td>\n",
       "      <td>3.5</td>\n",
       "      <td>6</td>\n",
       "      <td>11.9</td>\n",
       "      <td>7.7</td>\n",
       "      <td>10.0</td>\n",
       "      <td>28</td>\n",
       "      <td>230</td>\n",
       "      <td>0</td>\n",
       "      <td>490</td>\n",
       "      <td>2</td>\n",
       "      <td>11</td>\n",
       "      <td>3</td>\n",
       "    </tr>\n",
       "  </tbody>\n",
       "</table>\n",
       "</div>"
      ],
      "text/plain": [
       "   MODELYEAR  ENGINESIZE  CYLINDERS  FUELCONSUMPTION_CITY  \\\n",
       "0       2014         2.0          4                   9.9   \n",
       "1       2014         2.4          4                  11.2   \n",
       "2       2014         1.5          4                   6.0   \n",
       "4       2014         3.5          6                  12.1   \n",
       "5       2014         3.5          6                  11.9   \n",
       "\n",
       "   FUELCONSUMPTION_HWY  FUELCONSUMPTION_COMB  FUELCONSUMPTION_COMB_MPG  \\\n",
       "0                  6.7                   8.5                        33   \n",
       "1                  7.7                   9.6                        29   \n",
       "2                  5.8                   5.9                        48   \n",
       "4                  8.7                  10.6                        27   \n",
       "5                  7.7                  10.0                        28   \n",
       "\n",
       "   CO2EMISSIONS  MAKE  MODEL  VEHICLECLASS  TRANSMISSION  FUELTYPE  \n",
       "0           196     0    329             0            10         3  \n",
       "1           221     0    329             0            20         3  \n",
       "2           136     0    330             0            17         3  \n",
       "4           244     0    483            11            11         3  \n",
       "5           230     0    490             2            11         3  "
      ]
     },
     "execution_count": 43,
     "metadata": {},
     "output_type": "execute_result"
    }
   ],
   "source": [
    "train.head()"
   ]
  },
  {
   "cell_type": "code",
   "execution_count": 44,
   "metadata": {},
   "outputs": [
    {
     "data": {
      "text/html": [
       "<div>\n",
       "<style scoped>\n",
       "    .dataframe tbody tr th:only-of-type {\n",
       "        vertical-align: middle;\n",
       "    }\n",
       "\n",
       "    .dataframe tbody tr th {\n",
       "        vertical-align: top;\n",
       "    }\n",
       "\n",
       "    .dataframe thead th {\n",
       "        text-align: right;\n",
       "    }\n",
       "</style>\n",
       "<table border=\"1\" class=\"dataframe\">\n",
       "  <thead>\n",
       "    <tr style=\"text-align: right;\">\n",
       "      <th></th>\n",
       "      <th>MODELYEAR</th>\n",
       "      <th>ENGINESIZE</th>\n",
       "      <th>CYLINDERS</th>\n",
       "      <th>FUELCONSUMPTION_CITY</th>\n",
       "      <th>FUELCONSUMPTION_HWY</th>\n",
       "      <th>FUELCONSUMPTION_COMB</th>\n",
       "      <th>FUELCONSUMPTION_COMB_MPG</th>\n",
       "      <th>CO2EMISSIONS</th>\n",
       "      <th>MAKE</th>\n",
       "      <th>MODEL</th>\n",
       "      <th>VEHICLECLASS</th>\n",
       "      <th>TRANSMISSION</th>\n",
       "      <th>FUELTYPE</th>\n",
       "    </tr>\n",
       "  </thead>\n",
       "  <tbody>\n",
       "    <tr>\n",
       "      <th>3</th>\n",
       "      <td>2014</td>\n",
       "      <td>3.5</td>\n",
       "      <td>6</td>\n",
       "      <td>12.7</td>\n",
       "      <td>9.1</td>\n",
       "      <td>11.1</td>\n",
       "      <td>25</td>\n",
       "      <td>255</td>\n",
       "      <td>0</td>\n",
       "      <td>389</td>\n",
       "      <td>11</td>\n",
       "      <td>11</td>\n",
       "      <td>3</td>\n",
       "    </tr>\n",
       "    <tr>\n",
       "      <th>6</th>\n",
       "      <td>2014</td>\n",
       "      <td>3.5</td>\n",
       "      <td>6</td>\n",
       "      <td>11.8</td>\n",
       "      <td>8.1</td>\n",
       "      <td>10.1</td>\n",
       "      <td>28</td>\n",
       "      <td>232</td>\n",
       "      <td>0</td>\n",
       "      <td>578</td>\n",
       "      <td>2</td>\n",
       "      <td>11</td>\n",
       "      <td>3</td>\n",
       "    </tr>\n",
       "    <tr>\n",
       "      <th>25</th>\n",
       "      <td>2014</td>\n",
       "      <td>2.0</td>\n",
       "      <td>4</td>\n",
       "      <td>12.0</td>\n",
       "      <td>8.1</td>\n",
       "      <td>10.2</td>\n",
       "      <td>28</td>\n",
       "      <td>235</td>\n",
       "      <td>2</td>\n",
       "      <td>76</td>\n",
       "      <td>2</td>\n",
       "      <td>13</td>\n",
       "      <td>3</td>\n",
       "    </tr>\n",
       "    <tr>\n",
       "      <th>32</th>\n",
       "      <td>2014</td>\n",
       "      <td>3.0</td>\n",
       "      <td>6</td>\n",
       "      <td>10.0</td>\n",
       "      <td>6.4</td>\n",
       "      <td>8.4</td>\n",
       "      <td>34</td>\n",
       "      <td>227</td>\n",
       "      <td>2</td>\n",
       "      <td>81</td>\n",
       "      <td>2</td>\n",
       "      <td>13</td>\n",
       "      <td>0</td>\n",
       "    </tr>\n",
       "    <tr>\n",
       "      <th>36</th>\n",
       "      <td>2014</td>\n",
       "      <td>3.0</td>\n",
       "      <td>6</td>\n",
       "      <td>10.1</td>\n",
       "      <td>6.5</td>\n",
       "      <td>8.5</td>\n",
       "      <td>33</td>\n",
       "      <td>230</td>\n",
       "      <td>2</td>\n",
       "      <td>83</td>\n",
       "      <td>1</td>\n",
       "      <td>13</td>\n",
       "      <td>0</td>\n",
       "    </tr>\n",
       "  </tbody>\n",
       "</table>\n",
       "</div>"
      ],
      "text/plain": [
       "    MODELYEAR  ENGINESIZE  CYLINDERS  FUELCONSUMPTION_CITY  \\\n",
       "3        2014         3.5          6                  12.7   \n",
       "6        2014         3.5          6                  11.8   \n",
       "25       2014         2.0          4                  12.0   \n",
       "32       2014         3.0          6                  10.0   \n",
       "36       2014         3.0          6                  10.1   \n",
       "\n",
       "    FUELCONSUMPTION_HWY  FUELCONSUMPTION_COMB  FUELCONSUMPTION_COMB_MPG  \\\n",
       "3                   9.1                  11.1                        25   \n",
       "6                   8.1                  10.1                        28   \n",
       "25                  8.1                  10.2                        28   \n",
       "32                  6.4                   8.4                        34   \n",
       "36                  6.5                   8.5                        33   \n",
       "\n",
       "    CO2EMISSIONS  MAKE  MODEL  VEHICLECLASS  TRANSMISSION  FUELTYPE  \n",
       "3            255     0    389            11            11         3  \n",
       "6            232     0    578             2            11         3  \n",
       "25           235     2     76             2            13         3  \n",
       "32           227     2     81             2            13         0  \n",
       "36           230     2     83             1            13         0  "
      ]
     },
     "execution_count": 44,
     "metadata": {},
     "output_type": "execute_result"
    }
   ],
   "source": [
    "test.head()"
   ]
  },
  {
   "cell_type": "code",
   "execution_count": 50,
   "metadata": {},
   "outputs": [],
   "source": [
    "from sklearn.linear_model import LinearRegression\n",
    "\n",
    "lr = LinearRegression()\n",
    "x_train = np.asarray(train.drop(['CO2EMISSIONS'], axis=1))\n",
    "y_train = np.asarray(train['CO2EMISSIONS'])"
   ]
  },
  {
   "cell_type": "code",
   "execution_count": 51,
   "metadata": {},
   "outputs": [
    {
     "data": {
      "text/plain": [
       "LinearRegression(copy_X=True, fit_intercept=True, n_jobs=None, normalize=False)"
      ]
     },
     "execution_count": 51,
     "metadata": {},
     "output_type": "execute_result"
    }
   ],
   "source": [
    "lr.fit(x_train, y_train)\n"
   ]
  },
  {
   "cell_type": "code",
   "execution_count": 53,
   "metadata": {},
   "outputs": [],
   "source": [
    "x_test = np.asarray(test.drop(['CO2EMISSIONS'], axis=1))\n",
    "y_pred = lr.predict(x_test)"
   ]
  },
  {
   "cell_type": "code",
   "execution_count": 74,
   "metadata": {},
   "outputs": [
    {
     "name": "stdout",
     "output_type": "stream",
     "text": [
      "0.0047132363008693095\n"
     ]
    }
   ],
   "source": [
    "from sklearn.metrics import mean_squared_log_error, roc_curve\n",
    "\n",
    "y_test = np.asarray(test['CO2EMISSIONS'])\n",
    "print(mean_squared_log_error(y_test, y_pred))"
   ]
  },
  {
   "cell_type": "code",
   "execution_count": 69,
   "metadata": {},
   "outputs": [
    {
     "name": "stdout",
     "output_type": "stream",
     "text": [
      "(211, 12) (12, 1) (211,)\n"
     ]
    }
   ],
   "source": [
    "theta = lr.coef_\n",
    "theta = theta.reshape(-1, 1)\n",
    "print(x_test.shape, theta.shape, y_test.shape)"
   ]
  },
  {
   "cell_type": "code",
   "execution_count": 70,
   "metadata": {},
   "outputs": [],
   "source": [
    "y_predicted = np.dot(x_test, theta)"
   ]
  },
  {
   "cell_type": "code",
   "execution_count": 72,
   "metadata": {},
   "outputs": [
    {
     "data": {
      "text/plain": [
       "(211, 1)"
      ]
     },
     "execution_count": 72,
     "metadata": {},
     "output_type": "execute_result"
    }
   ],
   "source": [
    "y_predicted.shape"
   ]
  },
  {
   "cell_type": "code",
   "execution_count": 75,
   "metadata": {},
   "outputs": [
    {
     "data": {
      "text/plain": [
       "(211, 1)"
      ]
     },
     "execution_count": 75,
     "metadata": {},
     "output_type": "execute_result"
    }
   ],
   "source": [
    "y_test = y_test.reshape(-1, 1)\n",
    "y_test.shape"
   ]
  },
  {
   "cell_type": "code",
   "execution_count": 76,
   "metadata": {},
   "outputs": [
    {
     "data": {
      "text/plain": [
       "[<matplotlib.lines.Line2D at 0x237c3465e48>]"
      ]
     },
     "execution_count": 76,
     "metadata": {},
     "output_type": "execute_result"
    },
    {
     "data": {
      "image/png": "[encoded data removed]",
      "text/plain": [
       "<Figure size 432x288 with 1 Axes>"
      ]
     },
     "metadata": {
      "needs_background": "light"
     },
     "output_type": "display_data"
    }
   ],
   "source": [
    "plt.plot(y_test, y_predicted)"
   ]
  },
  {
   "cell_type": "code",
   "execution_count": null,
   "metadata": {},
   "outputs": [],
   "source": []
  }
 ],
 "metadata": {
  "kernelspec": {
   "display_name": "Python 3",
   "language": "python",
   "name": "python3"
  },
  "language_info": {
   "codemirror_mode": {
    "name": "ipython",
    "version": 3
   },
   "file_extension": ".py",
   "mimetype": "text/x-python",
   "name": "python",
   "nbconvert_exporter": "python",
   "pygments_lexer": "ipython3",
   "version": "3.7.4"
  }
 },
 "nbformat": 4,
 "nbformat_minor": 2
}
